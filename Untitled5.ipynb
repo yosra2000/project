{
 "cells": [
  {
   "cell_type": "code",
   "execution_count": null,
   "metadata": {},
   "outputs": [
    {
     "name": "stdout",
     "output_type": "stream",
     "text": [
      " \t ****  bienvenu dans le jeu  Roch, Paper, Scissors **** \n",
      "enter your move  r : rock , p : paper , s: scissors, q: quiter le jeux \n"
     ]
    }
   ],
   "source": [
    "\n",
    "\n",
    "\n",
    "\n",
    "\n",
    "import random, sys\n",
    "\n",
    "print (\" \\t ****  bienvenu dans le jeu  Roch, Paper, Scissors **** \")\n",
    "\n",
    "\n",
    "Gagner=0;\n",
    "perte=0;\n",
    "égaux=0; \n",
    "\n",
    "\n",
    "while True:\n",
    "    print (\"enter your move  r : rock , p : paper , s: scissors, q: quiter le jeux \");\n",
    "    usermove = input(\"\\n Type one of r, p, s or q : \")\n",
    "    if usermove == 'q':\n",
    "         sys.exit()   #Quit the program.\n",
    "#choix de l'ordinateur\n",
    "    comp = random.randint(1, 3)\n",
    "\n",
    "    if  comp== 1:\n",
    "        compmove = 'r'\n",
    "        print(\"Rock\")\n",
    "    \n",
    "    elif comp == 2:\n",
    "        compmove= 'p'\n",
    "        print(\"Paper\")\n",
    "    \n",
    "    elif comp == 3:\n",
    "        compmove= 's'\n",
    "        print(\"Scissors\")\n",
    "        \n",
    "    #test jeux\n",
    "    if usermove == compmove :\n",
    "        print(\"égaux!\")\n",
    "        égaux+= 1\n",
    "    elif usermove == 'r' and compmove == 's':\n",
    "        print(\"welyee tu as gagné!\")\n",
    "        gagner+= 1\n",
    "    elif usermove == \"p\" and compmove == 'r':\n",
    "        gagner += 1\n",
    "        print(\" welyee tu as gagné!\")\n",
    "    elif usermove == \"s\" and compmove == 'p':\n",
    "        gagner+= 1\n",
    "        print(\" welyee tu as gagné!\")\n",
    "    elif usermove == \"r\" and compmove == 'p':\n",
    "        perte += 1\n",
    "        print(\"You Lose!\")\n",
    "    elif usermove == \"p\" and compmove == 's':\n",
    "        perte += 1\n",
    "        print(\" offf  you lose !\")\n",
    "    elif UserMove == \"s\" and computerMove == 'r':\n",
    "        perte += 1\n",
    "        print(\"You Lose!\")\n",
    "\n",
    "\n",
    "\n",
    "\n",
    "\n"
   ]
  },
  {
   "cell_type": "code",
   "execution_count": null,
   "metadata": {},
   "outputs": [],
   "source": []
  }
 ],
 "metadata": {
  "kernelspec": {
   "display_name": "Python 3",
   "language": "python",
   "name": "python3"
  },
  "language_info": {
   "codemirror_mode": {
    "name": "ipython",
    "version": 3
   },
   "file_extension": ".py",
   "mimetype": "text/x-python",
   "name": "python",
   "nbconvert_exporter": "python",
   "pygments_lexer": "ipython3",
   "version": "3.8.3"
  }
 },
 "nbformat": 4,
 "nbformat_minor": 4
}
